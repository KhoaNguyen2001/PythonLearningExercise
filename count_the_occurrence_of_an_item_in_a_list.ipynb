{
 "cells": [
  {
   "cell_type": "code",
   "execution_count": 1,
   "id": "bad18391",
   "metadata": {},
   "outputs": [],
   "source": [
    "freq = ['a', 1, 'a', 9, 6, 3, 'a'].count('a')"
   ]
  },
  {
   "cell_type": "code",
   "execution_count": 2,
   "id": "d166cac2",
   "metadata": {},
   "outputs": [
    {
     "data": {
      "text/plain": [
       "3"
      ]
     },
     "execution_count": 2,
     "metadata": {},
     "output_type": "execute_result"
    }
   ],
   "source": [
    "freq"
   ]
  }
 ],
 "metadata": {
  "kernelspec": {
   "display_name": "Python (tensorflow_env)",
   "language": "python",
   "name": "tensorflow_env"
  },
  "language_info": {
   "codemirror_mode": {
    "name": "ipython",
    "version": 3
   },
   "file_extension": ".py",
   "mimetype": "text/x-python",
   "name": "python",
   "nbconvert_exporter": "python",
   "pygments_lexer": "ipython3",
   "version": "3.11.9"
  }
 },
 "nbformat": 4,
 "nbformat_minor": 5
}
