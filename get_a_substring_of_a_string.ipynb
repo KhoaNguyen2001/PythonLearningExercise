{
 "cells": [
  {
   "cell_type": "code",
   "execution_count": 1,
   "id": "1adcef58",
   "metadata": {},
   "outputs": [
    {
     "name": "stdout",
     "output_type": "stream",
     "text": [
      "Python\n",
      "is fun.\n",
      "Python is fun\n"
     ]
    }
   ],
   "source": [
    "my_string = \"Python is fun.\"\n",
    "\n",
    "# prints \"love\"\n",
    "print(my_string[0:6])\n",
    "\n",
    "# prints \"love python.\"\n",
    "print(my_string[7:])\n",
    "\n",
    "# prints \"I love python\"\n",
    "print(my_string[:-1])\n"
   ]
  }
 ],
 "metadata": {
  "kernelspec": {
   "display_name": "Python (tensorflow_env)",
   "language": "python",
   "name": "tensorflow_env"
  },
  "language_info": {
   "codemirror_mode": {
    "name": "ipython",
    "version": 3
   },
   "file_extension": ".py",
   "mimetype": "text/x-python",
   "name": "python",
   "nbconvert_exporter": "python",
   "pygments_lexer": "ipython3",
   "version": "3.11.9"
  }
 },
 "nbformat": 4,
 "nbformat_minor": 5
}
