{
 "cells": [
  {
   "cell_type": "code",
   "execution_count": 4,
   "id": "2878c485",
   "metadata": {},
   "outputs": [],
   "source": [
    "my_str = 'aIbohPhoBiA'"
   ]
  },
  {
   "cell_type": "code",
   "execution_count": null,
   "id": "651b6eef",
   "metadata": {},
   "outputs": [
    {
     "name": "stdout",
     "output_type": "stream",
     "text": [
      "aibohphobia\n",
      "<reversed object at 0x0000014D30BC5690>\n"
     ]
    }
   ],
   "source": [
    "my_str = my_str.lower()\n",
    "print(my_str)\n",
    "print(str(reversed(my_str)))"
   ]
  },
  {
   "cell_type": "code",
   "execution_count": 9,
   "id": "13b6bd85",
   "metadata": {},
   "outputs": [
    {
     "name": "stdout",
     "output_type": "stream",
     "text": [
      "True\n"
     ]
    }
   ],
   "source": [
    "print(list(my_str) == list(reversed(my_str)))"
   ]
  },
  {
   "cell_type": "code",
   "execution_count": 12,
   "id": "5ac7d85c",
   "metadata": {},
   "outputs": [
    {
     "name": "stdout",
     "output_type": "stream",
     "text": [
      "aibohphobia\n"
     ]
    }
   ],
   "source": [
    "my_str = 'aIbohPhoBiA'\n",
    "my_str = my_str.casefold()\n",
    "print(my_str)"
   ]
  },
  {
   "cell_type": "code",
   "execution_count": 13,
   "id": "c80f5614",
   "metadata": {},
   "outputs": [
    {
     "name": "stdout",
     "output_type": "stream",
     "text": [
      "True\n"
     ]
    }
   ],
   "source": [
    "# Other solution\n",
    "print(my_str == my_str[::-1])"
   ]
  }
 ],
 "metadata": {
  "kernelspec": {
   "display_name": "Python (tensorflow_env)",
   "language": "python",
   "name": "tensorflow_env"
  },
  "language_info": {
   "codemirror_mode": {
    "name": "ipython",
    "version": 3
   },
   "file_extension": ".py",
   "mimetype": "text/x-python",
   "name": "python",
   "nbconvert_exporter": "python",
   "pygments_lexer": "ipython3",
   "version": "3.11.9"
  }
 },
 "nbformat": 4,
 "nbformat_minor": 5
}
