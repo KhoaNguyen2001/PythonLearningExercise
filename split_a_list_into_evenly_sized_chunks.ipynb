{
 "cells": [
  {
   "cell_type": "code",
   "execution_count": 2,
   "id": "e4594c2f",
   "metadata": {},
   "outputs": [
    {
     "name": "stdout",
     "output_type": "stream",
     "text": [
      "[[1, 2], [3, 4], [5, 6], [7, 8], [9]]\n"
     ]
    }
   ],
   "source": [
    "def split(list_a, chunk_size):\n",
    "\n",
    "    for i in range(0, len(list_a), chunk_size):\n",
    "        yield list_a[i:i + chunk_size]\n",
    "\n",
    "chunk_size = 2\n",
    "my_list = [1,2,3,4,5,6,7,8,9]\n",
    "print(list(split(my_list, chunk_size)))"
   ]
  },
  {
   "cell_type": "code",
   "execution_count": 3,
   "id": "655ef81e",
   "metadata": {},
   "outputs": [
    {
     "name": "stdout",
     "output_type": "stream",
     "text": [
      "[[1, 2], [3, 4], [5, 6], [7, 8], [9]]\n"
     ]
    }
   ],
   "source": [
    "res = [my_list[i: i + chunk_size] for i in range(0, len(my_list), chunk_size)]\n",
    "\n",
    "print(res)"
   ]
  },
  {
   "cell_type": "code",
   "execution_count": 8,
   "id": "159a9252",
   "metadata": {},
   "outputs": [
    {
     "name": "stdout",
     "output_type": "stream",
     "text": [
      "[[1, 2], [3, 4], [5, 6], [7, 8], [9]]\n"
     ]
    }
   ],
   "source": [
    "import numpy as np\n",
    "\n",
    "print([list(item) for item in np.array_split(my_list, 5)])"
   ]
  }
 ],
 "metadata": {
  "kernelspec": {
   "display_name": "Python (tensorflow_env)",
   "language": "python",
   "name": "tensorflow_env"
  },
  "language_info": {
   "codemirror_mode": {
    "name": "ipython",
    "version": 3
   },
   "file_extension": ".py",
   "mimetype": "text/x-python",
   "name": "python",
   "nbconvert_exporter": "python",
   "pygments_lexer": "ipython3",
   "version": "3.11.9"
  }
 },
 "nbformat": 4,
 "nbformat_minor": 5
}
