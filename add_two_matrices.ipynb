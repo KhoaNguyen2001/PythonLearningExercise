{
 "cells": [
  {
   "cell_type": "code",
   "execution_count": 3,
   "id": "b1f8461b",
   "metadata": {},
   "outputs": [],
   "source": [
    "X = [[12,9,3],\n",
    "    [4,5,6],\n",
    "    [7,8,3]]\n",
    "\n",
    "Y = [[9,8,1],\n",
    "    [6,7,3],\n",
    "    [4,5,9]]\n",
    "\n",
    "result = [[21, 17, 4],\n",
    "          [10, 12, 9],\n",
    "          [11, 13, 12]]"
   ]
  },
  {
   "cell_type": "code",
   "execution_count": 6,
   "id": "f58ea436",
   "metadata": {},
   "outputs": [],
   "source": [
    "def addList(a: list, b: list) -> list:\n",
    "    return [(ai + bi) for ai, bi in zip(a, b)]"
   ]
  },
  {
   "cell_type": "code",
   "execution_count": 7,
   "id": "a79ff8e7",
   "metadata": {},
   "outputs": [
    {
     "name": "stdout",
     "output_type": "stream",
     "text": [
      "[4, 4, 4]\n"
     ]
    }
   ],
   "source": [
    "a, b = [1, 2, 3], [3, 2, 1]\n",
    "print(addList(a, b))"
   ]
  },
  {
   "cell_type": "code",
   "execution_count": 9,
   "id": "752d87dd",
   "metadata": {},
   "outputs": [],
   "source": [
    "def addTwoMatrices(X: list[list], Y: list[list]) -> list[list]:\n",
    "    return [addList(rowX, rowY) for rowX, rowY in zip(X, Y)]"
   ]
  },
  {
   "cell_type": "code",
   "execution_count": 10,
   "id": "0d0056a5",
   "metadata": {},
   "outputs": [],
   "source": [
    "assert(addTwoMatrices(X, Y) == result)"
   ]
  }
 ],
 "metadata": {
  "kernelspec": {
   "display_name": "Python (tensorflow_env)",
   "language": "python",
   "name": "tensorflow_env"
  },
  "language_info": {
   "codemirror_mode": {
    "name": "ipython",
    "version": 3
   },
   "file_extension": ".py",
   "mimetype": "text/x-python",
   "name": "python",
   "nbconvert_exporter": "python",
   "pygments_lexer": "ipython3",
   "version": "3.11.9"
  }
 },
 "nbformat": 4,
 "nbformat_minor": 5
}
