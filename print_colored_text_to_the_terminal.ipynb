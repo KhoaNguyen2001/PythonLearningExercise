{
 "cells": [
  {
   "cell_type": "code",
   "execution_count": 1,
   "id": "4935c063",
   "metadata": {},
   "outputs": [
    {
     "name": "stdout",
     "output_type": "stream",
     "text": [
      "\u001b[38;2;6;96;243mPython4DataScience\u001b[0m\n"
     ]
    }
   ],
   "source": [
    "print('\\x1b[38;2;6;96;243m' + 'Python4DataScience' + '\\x1b[0m')"
   ]
  },
  {
   "cell_type": "code",
   "execution_count": 2,
   "id": "b2a3357c",
   "metadata": {},
   "outputs": [
    {
     "name": "stdout",
     "output_type": "stream",
     "text": [
      "\u001b[31mPython4DataScience\u001b[0m\n"
     ]
    }
   ],
   "source": [
    "from termcolor import colored\n",
    "\n",
    "print(colored('Python4DataScience', 'red'))"
   ]
  }
 ],
 "metadata": {
  "kernelspec": {
   "display_name": "Python (tensorflow_env)",
   "language": "python",
   "name": "tensorflow_env"
  },
  "language_info": {
   "codemirror_mode": {
    "name": "ipython",
    "version": 3
   },
   "file_extension": ".py",
   "mimetype": "text/x-python",
   "name": "python",
   "nbconvert_exporter": "python",
   "pygments_lexer": "ipython3",
   "version": "3.11.9"
  }
 },
 "nbformat": 4,
 "nbformat_minor": 5
}
