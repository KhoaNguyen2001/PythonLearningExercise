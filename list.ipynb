{
 "cells": [
  {
   "cell_type": "code",
   "execution_count": 11,
   "id": "354507a8",
   "metadata": {},
   "outputs": [],
   "source": [
    "my_list = []\n",
    "\n",
    "my_list.append(\"Python\")\n",
    "my_list.append(\"is ok\")\n",
    "my_list.append(\"sometimes\")\n",
    "\n",
    "my_list.remove(\"sometimes\")\n",
    "\n",
    "my_list[1] = \"is neat\""
   ]
  },
  {
   "cell_type": "code",
   "execution_count": 12,
   "id": "c658b611",
   "metadata": {},
   "outputs": [],
   "source": [
    "# Let's verify that it's correct\n",
    "assert my_list == [\"Python\", \"is neat\"]"
   ]
  },
  {
   "cell_type": "code",
   "execution_count": 13,
   "id": "91dfc745",
   "metadata": {},
   "outputs": [],
   "source": [
    "original = [\"I\", \"am\", \"learning\", \"hacking\", \"in\"]"
   ]
  },
  {
   "cell_type": "code",
   "execution_count": 14,
   "id": "d3996313",
   "metadata": {},
   "outputs": [],
   "source": [
    "modified = original.copy()\n",
    "modified.append(\"Python\")\n",
    "modified[3] = \"lists\""
   ]
  },
  {
   "cell_type": "code",
   "execution_count": 15,
   "id": "728c39d1",
   "metadata": {},
   "outputs": [],
   "source": [
    "assert original == [\"I\", \"am\", \"learning\", \"hacking\", \"in\"]\n",
    "assert modified == [\"I\", \"am\", \"learning\", \"lists\", \"in\", \"Python\"]"
   ]
  },
  {
   "cell_type": "code",
   "execution_count": 17,
   "id": "5721407d",
   "metadata": {},
   "outputs": [],
   "source": [
    "list1 = [6, 12, 5]\n",
    "list2 = [6.2, 0, 14, 1]\n",
    "list3 = [0.9]"
   ]
  },
  {
   "cell_type": "code",
   "execution_count": 20,
   "id": "0065f144",
   "metadata": {},
   "outputs": [
    {
     "name": "stdout",
     "output_type": "stream",
     "text": [
      "[14, 12, 6.2, 6, 5, 1, 0.9, 0]\n"
     ]
    }
   ],
   "source": [
    "my_list = list1 + list2 + list3\n",
    "my_list.sort(reverse=True)\n",
    "print(my_list)"
   ]
  },
  {
   "cell_type": "code",
   "execution_count": 21,
   "id": "01efc7e6",
   "metadata": {},
   "outputs": [
    {
     "name": "stdout",
     "output_type": "stream",
     "text": [
      "[14, 12, 6.2, 6, 5, 1, 0.9, 0]\n"
     ]
    }
   ],
   "source": [
    "print(my_list)\n",
    "assert my_list == [14, 12, 6.2, 6, 5, 1, 0.9, 0]"
   ]
  }
 ],
 "metadata": {
  "kernelspec": {
   "display_name": "Python (tensorflow_env)",
   "language": "python",
   "name": "tensorflow_env"
  },
  "language_info": {
   "codemirror_mode": {
    "name": "ipython",
    "version": 3
   },
   "file_extension": ".py",
   "mimetype": "text/x-python",
   "name": "python",
   "nbconvert_exporter": "python",
   "pygments_lexer": "ipython3",
   "version": "3.11.9"
  }
 },
 "nbformat": 4,
 "nbformat_minor": 5
}
