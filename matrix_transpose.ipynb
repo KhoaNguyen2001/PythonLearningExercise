{
 "cells": [
  {
   "cell_type": "code",
   "execution_count": 7,
   "id": "7a5aef8f",
   "metadata": {},
   "outputs": [],
   "source": [
    "X = [[12, 9],\n",
    "     [7, 3],\n",
    "     [5, 6]]\n",
    "\n",
    "result = [[12, 7, 5],\n",
    "          [9, 3, 6]]"
   ]
  },
  {
   "cell_type": "code",
   "execution_count": 8,
   "id": "eff05ea7",
   "metadata": {},
   "outputs": [],
   "source": [
    "def transpose_matrix(X: list[list]) -> list[list]:\n",
    "    return [[X[i][j] for i in range(len(X))] for j in range(len(X[0]))]"
   ]
  },
  {
   "cell_type": "code",
   "execution_count": 9,
   "id": "2f4bd045",
   "metadata": {},
   "outputs": [],
   "source": [
    "assert(transpose_matrix(X) == result)"
   ]
  }
 ],
 "metadata": {
  "kernelspec": {
   "display_name": "Python (tensorflow_env)",
   "language": "python",
   "name": "tensorflow_env"
  },
  "language_info": {
   "codemirror_mode": {
    "name": "ipython",
    "version": 3
   },
   "file_extension": ".py",
   "mimetype": "text/x-python",
   "name": "python",
   "nbconvert_exporter": "python",
   "pygments_lexer": "ipython3",
   "version": "3.11.9"
  }
 },
 "nbformat": 4,
 "nbformat_minor": 5
}
