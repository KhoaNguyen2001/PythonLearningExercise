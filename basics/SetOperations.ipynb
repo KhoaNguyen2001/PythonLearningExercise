{
 "cells": [
  {
   "cell_type": "code",
   "execution_count": 1,
   "id": "f925ecc2",
   "metadata": {},
   "outputs": [],
   "source": [
    "M = {0, 2, 4, 6, 8, 10};\n",
    "N = {1, 2, 3, 4, 5, 7};"
   ]
  },
  {
   "cell_type": "code",
   "execution_count": 2,
   "id": "7a4dad4d",
   "metadata": {},
   "outputs": [
    {
     "name": "stdout",
     "output_type": "stream",
     "text": [
      "{0, 2, 4, 6, 8, 10}\n",
      "{1, 2, 3, 4, 5, 7}\n"
     ]
    }
   ],
   "source": [
    "print(M)\n",
    "print(N)"
   ]
  },
  {
   "cell_type": "code",
   "execution_count": 3,
   "id": "62b21b10",
   "metadata": {},
   "outputs": [],
   "source": [
    "def getSetUnion(a: set, b: set) -> set:\n",
    "    return a | b"
   ]
  },
  {
   "cell_type": "code",
   "execution_count": 4,
   "id": "e0ed727e",
   "metadata": {},
   "outputs": [
    {
     "name": "stdout",
     "output_type": "stream",
     "text": [
      "{0, 1, 2, 3, 4, 5, 6, 7, 8, 10}\n"
     ]
    }
   ],
   "source": [
    "print(getSetUnion(M, N))"
   ]
  },
  {
   "cell_type": "code",
   "execution_count": 5,
   "id": "ec501747",
   "metadata": {},
   "outputs": [],
   "source": [
    "def getSetIntersection(a: set, b: set) -> set:\n",
    "    return a & b"
   ]
  },
  {
   "cell_type": "code",
   "execution_count": 6,
   "id": "c2ea8194",
   "metadata": {},
   "outputs": [
    {
     "name": "stdout",
     "output_type": "stream",
     "text": [
      "{2, 4}\n"
     ]
    }
   ],
   "source": [
    "print(getSetIntersection(M, N))"
   ]
  },
  {
   "cell_type": "code",
   "execution_count": 7,
   "id": "6614139f",
   "metadata": {},
   "outputs": [],
   "source": [
    "def getSetDifference(a: set, b: set) -> set:\n",
    "    return a - b"
   ]
  },
  {
   "cell_type": "code",
   "execution_count": 8,
   "id": "e007382c",
   "metadata": {},
   "outputs": [
    {
     "name": "stdout",
     "output_type": "stream",
     "text": [
      "{0, 8, 10, 6}\n"
     ]
    }
   ],
   "source": [
    "print(getSetDifference(M, N))"
   ]
  },
  {
   "cell_type": "code",
   "execution_count": 9,
   "id": "2b3af366",
   "metadata": {},
   "outputs": [],
   "source": [
    "def getSymmetricDifference(a: set, b: set) -> set:\n",
    "    return a ^ b"
   ]
  },
  {
   "cell_type": "code",
   "execution_count": 10,
   "id": "420ea02a",
   "metadata": {},
   "outputs": [
    {
     "name": "stdout",
     "output_type": "stream",
     "text": [
      "{0, 1, 3, 5, 6, 7, 8, 10}\n"
     ]
    }
   ],
   "source": [
    "print(getSymmetricDifference(M, N))"
   ]
  }
 ],
 "metadata": {
  "kernelspec": {
   "display_name": "Python (tensorflow_env)",
   "language": "python",
   "name": "tensorflow_env"
  },
  "language_info": {
   "codemirror_mode": {
    "name": "ipython",
    "version": 3
   },
   "file_extension": ".py",
   "mimetype": "text/x-python",
   "name": "python",
   "nbconvert_exporter": "python",
   "pygments_lexer": "ipython3",
   "version": "3.11.9"
  }
 },
 "nbformat": 4,
 "nbformat_minor": 5
}
