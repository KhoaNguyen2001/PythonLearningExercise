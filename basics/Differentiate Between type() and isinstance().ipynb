{
 "cells": [
  {
   "cell_type": "code",
   "execution_count": 1,
   "id": "9a8864fa",
   "metadata": {},
   "outputs": [],
   "source": [
    "class Polygon:\n",
    "    def sides_no(self):\n",
    "        pass\n",
    "\n",
    "class Triangle(Polygon):\n",
    "    def area(self):\n",
    "        pass"
   ]
  },
  {
   "cell_type": "code",
   "execution_count": 2,
   "id": "4e0dd6b7",
   "metadata": {},
   "outputs": [],
   "source": [
    "p = Polygon()\n",
    "t = Triangle()"
   ]
  },
  {
   "cell_type": "code",
   "execution_count": 5,
   "id": "b0fc5cde",
   "metadata": {},
   "outputs": [
    {
     "name": "stdout",
     "output_type": "stream",
     "text": [
      "True\n",
      "False\n"
     ]
    }
   ],
   "source": [
    "print(type(t) == Triangle)\n",
    "print(type(t) == Polygon)"
   ]
  },
  {
   "cell_type": "code",
   "execution_count": 8,
   "id": "f3e89d2e",
   "metadata": {},
   "outputs": [
    {
     "name": "stdout",
     "output_type": "stream",
     "text": [
      "True\n"
     ]
    }
   ],
   "source": [
    "print(isinstance(t, Triangle))"
   ]
  },
  {
   "cell_type": "code",
   "execution_count": 10,
   "id": "b7b7ba13",
   "metadata": {},
   "outputs": [
    {
     "name": "stdout",
     "output_type": "stream",
     "text": [
      "True\n"
     ]
    }
   ],
   "source": [
    "print(isinstance(t, Polygon))"
   ]
  },
  {
   "cell_type": "code",
   "execution_count": 11,
   "id": "16727f3d",
   "metadata": {},
   "outputs": [
    {
     "name": "stdout",
     "output_type": "stream",
     "text": [
      "False\n"
     ]
    }
   ],
   "source": [
    "print(isinstance(p, Triangle))"
   ]
  },
  {
   "cell_type": "code",
   "execution_count": 12,
   "id": "f6802e5a",
   "metadata": {},
   "outputs": [
    {
     "name": "stdout",
     "output_type": "stream",
     "text": [
      "True\n"
     ]
    }
   ],
   "source": [
    "print(isinstance(p, Polygon))"
   ]
  }
 ],
 "metadata": {
  "kernelspec": {
   "display_name": "Python (tensorflow_env)",
   "language": "python",
   "name": "tensorflow_env"
  },
  "language_info": {
   "codemirror_mode": {
    "name": "ipython",
    "version": 3
   },
   "file_extension": ".py",
   "mimetype": "text/x-python",
   "name": "python",
   "nbconvert_exporter": "python",
   "pygments_lexer": "ipython3",
   "version": "3.11.9"
  }
 },
 "nbformat": 4,
 "nbformat_minor": 5
}
