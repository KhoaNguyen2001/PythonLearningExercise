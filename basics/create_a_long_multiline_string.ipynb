{
 "cells": [
  {
   "cell_type": "code",
   "execution_count": 2,
   "id": "6c44c433",
   "metadata": {},
   "outputs": [],
   "source": [
    "multiline_string = \"\"\"\n",
    "The only one\n",
    "The two\n",
    "The three\n",
    "\"\"\""
   ]
  },
  {
   "cell_type": "code",
   "execution_count": 3,
   "id": "f76c981a",
   "metadata": {},
   "outputs": [
    {
     "name": "stdout",
     "output_type": "stream",
     "text": [
      "\n",
      "The only one\n",
      "The two\n",
      "The three\n",
      "\n"
     ]
    }
   ],
   "source": [
    "print(multiline_string)"
   ]
  },
  {
   "cell_type": "code",
   "execution_count": 5,
   "id": "e54f8853",
   "metadata": {},
   "outputs": [],
   "source": [
    "my_string = \"The only way to \\n\" \\\n",
    "        \t\"learn to programing is \\n\" \\\n",
    "        \t\"by writing codes.\""
   ]
  },
  {
   "cell_type": "code",
   "execution_count": 6,
   "id": "85835323",
   "metadata": {},
   "outputs": [
    {
     "name": "stdout",
     "output_type": "stream",
     "text": [
      "The only way to \n",
      "learn to programing is \n",
      "by writing codes.\n"
     ]
    }
   ],
   "source": [
    "print(my_string)"
   ]
  }
 ],
 "metadata": {
  "kernelspec": {
   "display_name": "Python (tensorflow_env)",
   "language": "python",
   "name": "tensorflow_env"
  },
  "language_info": {
   "codemirror_mode": {
    "name": "ipython",
    "version": 3
   },
   "file_extension": ".py",
   "mimetype": "text/x-python",
   "name": "python",
   "nbconvert_exporter": "python",
   "pygments_lexer": "ipython3",
   "version": "3.11.9"
  }
 },
 "nbformat": 4,
 "nbformat_minor": 5
}
