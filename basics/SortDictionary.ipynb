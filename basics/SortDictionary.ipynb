{
 "cells": [
  {
   "cell_type": "code",
   "execution_count": 1,
   "id": "625ee797",
   "metadata": {},
   "outputs": [],
   "source": [
    "dt = {7:8, 1:9, 6:3}"
   ]
  },
  {
   "cell_type": "code",
   "execution_count": 3,
   "id": "c0535475",
   "metadata": {},
   "outputs": [
    {
     "name": "stdout",
     "output_type": "stream",
     "text": [
      "dict_items([(7, 8), (1, 9), (6, 3)])\n",
      "<class 'dict_items'>\n"
     ]
    }
   ],
   "source": [
    "print(dt.items())\n",
    "print(type(dt.items()))"
   ]
  },
  {
   "cell_type": "code",
   "execution_count": 4,
   "id": "d7ac585d",
   "metadata": {},
   "outputs": [],
   "source": [
    "sorted_dict = { key: value for key, value in sorted(dt.items(), key=lambda x: x[1])}"
   ]
  },
  {
   "cell_type": "code",
   "execution_count": 5,
   "id": "5cadf041",
   "metadata": {},
   "outputs": [
    {
     "name": "stdout",
     "output_type": "stream",
     "text": [
      "{6: 3, 7: 8, 1: 9}\n"
     ]
    }
   ],
   "source": [
    "print(sorted_dict)"
   ]
  },
  {
   "cell_type": "code",
   "execution_count": 6,
   "id": "fd44369e",
   "metadata": {},
   "outputs": [
    {
     "name": "stdout",
     "output_type": "stream",
     "text": [
      "[3, 8, 9]\n"
     ]
    }
   ],
   "source": [
    "print(sorted(dt.values()))"
   ]
  }
 ],
 "metadata": {
  "kernelspec": {
   "display_name": "Python (tensorflow_env)",
   "language": "python",
   "name": "tensorflow_env"
  },
  "language_info": {
   "codemirror_mode": {
    "name": "ipython",
    "version": 3
   },
   "file_extension": ".py",
   "mimetype": "text/x-python",
   "name": "python",
   "nbconvert_exporter": "python",
   "pygments_lexer": "ipython3",
   "version": "3.11.9"
  }
 },
 "nbformat": 4,
 "nbformat_minor": 5
}
