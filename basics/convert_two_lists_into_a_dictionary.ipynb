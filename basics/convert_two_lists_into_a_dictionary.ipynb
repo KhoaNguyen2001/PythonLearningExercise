{
 "cells": [
  {
   "cell_type": "code",
   "execution_count": 1,
   "id": "15c5a4de",
   "metadata": {},
   "outputs": [],
   "source": [
    "index = [1, 2, 3]\n",
    "languages = ['python', 'java', 'c']"
   ]
  },
  {
   "cell_type": "code",
   "execution_count": 2,
   "id": "ee0e310c",
   "metadata": {},
   "outputs": [],
   "source": [
    "dictionary = dict(zip(index, languages))"
   ]
  },
  {
   "cell_type": "code",
   "execution_count": 3,
   "id": "95005810",
   "metadata": {},
   "outputs": [
    {
     "data": {
      "text/plain": [
       "{1: 'python', 2: 'java', 3: 'c'}"
      ]
     },
     "execution_count": 3,
     "metadata": {},
     "output_type": "execute_result"
    }
   ],
   "source": [
    "dictionary"
   ]
  },
  {
   "cell_type": "code",
   "execution_count": 4,
   "id": "e2b499f1",
   "metadata": {},
   "outputs": [],
   "source": [
    "new_dict = { key: value for key, value in zip(index, languages)}"
   ]
  },
  {
   "cell_type": "code",
   "execution_count": 5,
   "id": "400f87c6",
   "metadata": {},
   "outputs": [
    {
     "data": {
      "text/plain": [
       "{1: 'python', 2: 'java', 3: 'c'}"
      ]
     },
     "execution_count": 5,
     "metadata": {},
     "output_type": "execute_result"
    }
   ],
   "source": [
    "new_dict"
   ]
  }
 ],
 "metadata": {
  "kernelspec": {
   "display_name": "Python (tensorflow_env)",
   "language": "python",
   "name": "tensorflow_env"
  },
  "language_info": {
   "codemirror_mode": {
    "name": "ipython",
    "version": 3
   },
   "file_extension": ".py",
   "mimetype": "text/x-python",
   "name": "python",
   "nbconvert_exporter": "python",
   "pygments_lexer": "ipython3",
   "version": "3.11.9"
  }
 },
 "nbformat": 4,
 "nbformat_minor": 5
}
