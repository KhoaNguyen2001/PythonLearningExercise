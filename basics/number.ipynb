{
 "cells": [
  {
   "cell_type": "code",
   "execution_count": 1,
   "id": "8f9b1217",
   "metadata": {},
   "outputs": [],
   "source": [
    "a = 2\n",
    "b = 3\n",
    "c = 2"
   ]
  },
  {
   "cell_type": "code",
   "execution_count": 2,
   "id": "0a3bd2e5",
   "metadata": {},
   "outputs": [],
   "source": [
    "result = 6*a**3 - 8*b**2/(4*c) + 11"
   ]
  },
  {
   "cell_type": "code",
   "execution_count": 3,
   "id": "8d3ef013",
   "metadata": {},
   "outputs": [],
   "source": [
    "assert result == 50"
   ]
  },
  {
   "cell_type": "markdown",
   "id": "8ce95b16",
   "metadata": {},
   "source": [
    "# Floating point pitfalls"
   ]
  },
  {
   "cell_type": "code",
   "execution_count": 4,
   "id": "063b723e",
   "metadata": {},
   "outputs": [],
   "source": [
    "a = 0.1\n",
    "b = 0.2\n",
    "c = 0.3"
   ]
  },
  {
   "cell_type": "code",
   "execution_count": 6,
   "id": "72e27980",
   "metadata": {},
   "outputs": [],
   "source": [
    "a *= 10\n",
    "b *= 10\n",
    "c *= 10"
   ]
  },
  {
   "cell_type": "code",
   "execution_count": 7,
   "id": "0dc1468e",
   "metadata": {},
   "outputs": [],
   "source": [
    "assert a + b == c"
   ]
  }
 ],
 "metadata": {
  "kernelspec": {
   "display_name": "Python (tensorflow_env)",
   "language": "python",
   "name": "tensorflow_env"
  },
  "language_info": {
   "codemirror_mode": {
    "name": "ipython",
    "version": 3
   },
   "file_extension": ".py",
   "mimetype": "text/x-python",
   "name": "python",
   "nbconvert_exporter": "python",
   "pygments_lexer": "ipython3",
   "version": "3.11.9"
  }
 },
 "nbformat": 4,
 "nbformat_minor": 5
}
