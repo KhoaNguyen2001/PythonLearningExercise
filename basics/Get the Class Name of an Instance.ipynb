{
 "cells": [
  {
   "cell_type": "code",
   "execution_count": 4,
   "id": "1aea4be0",
   "metadata": {},
   "outputs": [
    {
     "name": "stdout",
     "output_type": "stream",
     "text": [
      "Vehicle\n"
     ]
    }
   ],
   "source": [
    "class Vehicle:\n",
    "    def name(self, name):\n",
    "        return name\n",
    "\n",
    "v = Vehicle()\n",
    "print(v.__class__.__name__)"
   ]
  },
  {
   "cell_type": "code",
   "execution_count": 5,
   "id": "cee73c92",
   "metadata": {},
   "outputs": [
    {
     "name": "stdout",
     "output_type": "stream",
     "text": [
      "Vehicle\n"
     ]
    }
   ],
   "source": [
    "print(type(v).__name__)"
   ]
  }
 ],
 "metadata": {
  "kernelspec": {
   "display_name": "Python (tensorflow_env)",
   "language": "python",
   "name": "tensorflow_env"
  },
  "language_info": {
   "codemirror_mode": {
    "name": "ipython",
    "version": 3
   },
   "file_extension": ".py",
   "mimetype": "text/x-python",
   "name": "python",
   "nbconvert_exporter": "python",
   "pygments_lexer": "ipython3",
   "version": "3.11.9"
  }
 },
 "nbformat": 4,
 "nbformat_minor": 5
}
