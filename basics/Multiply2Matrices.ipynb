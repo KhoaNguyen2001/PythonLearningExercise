{
 "cells": [
  {
   "cell_type": "code",
   "execution_count": 1,
   "id": "4fb0a7c6",
   "metadata": {},
   "outputs": [],
   "source": [
    "X = [[12,9,3],\n",
    "    [4,5,6],\n",
    "    [7,8,3]]\n",
    "\n",
    "Y = [[6,8,1,3],\n",
    "    [5,7,3,4],\n",
    "    [0,6,9,1]]"
   ]
  },
  {
   "cell_type": "code",
   "execution_count": 5,
   "id": "4d9820db",
   "metadata": {},
   "outputs": [
    {
     "data": {
      "text/plain": [
       "[(12, 4, 7), (9, 5, 8), (3, 6, 3)]"
      ]
     },
     "execution_count": 5,
     "metadata": {},
     "output_type": "execute_result"
    }
   ],
   "source": [
    "[i for i in zip(*X)]"
   ]
  },
  {
   "cell_type": "code",
   "execution_count": null,
   "id": "b7f9d956",
   "metadata": {},
   "outputs": [],
   "source": [
    "def multiplyTwoArray(a: list, b: list) -> list:\n",
    "    return sum([i*j for i,j in zip(a, b)]) \n",
    "\n",
    "def multiply_two_matrices(X: list[list], Y: list[list]) -> list[list]:\n",
    "    result = [multiply_two_matrices(X[])]\n",
    "    return result"
   ]
  },
  {
   "cell_type": "code",
   "execution_count": 6,
   "id": "d81abe18",
   "metadata": {},
   "outputs": [],
   "source": [
    "import numpy as np"
   ]
  },
  {
   "cell_type": "code",
   "execution_count": 12,
   "id": "0431e7ce",
   "metadata": {},
   "outputs": [
    {
     "name": "stdout",
     "output_type": "stream",
     "text": [
      "[[12  9  3]\n",
      " [ 4  5  6]\n",
      " [ 7  8  3]]\n",
      "[[6 8 1 3]\n",
      " [5 7 3 4]\n",
      " [0 6 9 1]]\n"
     ]
    }
   ],
   "source": [
    "a = np.array(X)\n",
    "b = np.array(Y)\n",
    "\n",
    "print(a)\n",
    "print(b)"
   ]
  },
  {
   "cell_type": "code",
   "execution_count": 13,
   "id": "1c95946e",
   "metadata": {},
   "outputs": [
    {
     "name": "stdout",
     "output_type": "stream",
     "text": [
      "[[117 177  66  75]\n",
      " [ 49 103  73  38]\n",
      " [ 82 130  58  56]]\n"
     ]
    }
   ],
   "source": [
    "print(np.dot(a, b))"
   ]
  }
 ],
 "metadata": {
  "kernelspec": {
   "display_name": "Python (tensorflow_env)",
   "language": "python",
   "name": "tensorflow_env"
  },
  "language_info": {
   "codemirror_mode": {
    "name": "ipython",
    "version": 3
   },
   "file_extension": ".py",
   "mimetype": "text/x-python",
   "name": "python",
   "nbconvert_exporter": "python",
   "pygments_lexer": "ipython3",
   "version": "3.11.9"
  }
 },
 "nbformat": 4,
 "nbformat_minor": 5
}
