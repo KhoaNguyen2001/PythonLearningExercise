{
 "cells": [
  {
   "cell_type": "code",
   "execution_count": 9,
   "id": "4eaa3b09",
   "metadata": {},
   "outputs": [],
   "source": [
    "my_dict = {33: 'a', 77: 'b', 99: 'c'}"
   ]
  },
  {
   "cell_type": "code",
   "execution_count": 10,
   "id": "5c6f062b",
   "metadata": {},
   "outputs": [
    {
     "name": "stdout",
     "output_type": "stream",
     "text": [
      "deleted\n"
     ]
    }
   ],
   "source": [
    "if my_dict.get(33, None):\n",
    "    del my_dict[33]\n",
    "    print('deleted')"
   ]
  },
  {
   "cell_type": "code",
   "execution_count": 11,
   "id": "1d6fec99",
   "metadata": {},
   "outputs": [],
   "source": [
    "my_dict = {33: 'a', 77: 'b', 99: 'c'}"
   ]
  },
  {
   "cell_type": "code",
   "execution_count": 12,
   "id": "e21a8081",
   "metadata": {},
   "outputs": [
    {
     "data": {
      "text/plain": [
       "'a'"
      ]
     },
     "execution_count": 12,
     "metadata": {},
     "output_type": "execute_result"
    }
   ],
   "source": [
    "my_dict.pop(33)"
   ]
  },
  {
   "cell_type": "code",
   "execution_count": 13,
   "id": "885ed465",
   "metadata": {},
   "outputs": [
    {
     "data": {
      "text/plain": [
       "{77: 'b', 99: 'c'}"
      ]
     },
     "execution_count": 13,
     "metadata": {},
     "output_type": "execute_result"
    }
   ],
   "source": [
    "my_dict"
   ]
  }
 ],
 "metadata": {
  "kernelspec": {
   "display_name": "Python (tensorflow_env)",
   "language": "python",
   "name": "tensorflow_env"
  },
  "language_info": {
   "codemirror_mode": {
    "name": "ipython",
    "version": 3
   },
   "file_extension": ".py",
   "mimetype": "text/x-python",
   "name": "python",
   "nbconvert_exporter": "python",
   "pygments_lexer": "ipython3",
   "version": "3.11.9"
  }
 },
 "nbformat": 4,
 "nbformat_minor": 5
}
