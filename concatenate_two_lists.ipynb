{
 "cells": [
  {
   "cell_type": "code",
   "execution_count": 1,
   "id": "daf2334a",
   "metadata": {},
   "outputs": [
    {
     "name": "stdout",
     "output_type": "stream",
     "text": [
      "[7, 'n', 'm', 3, 6, 9]\n"
     ]
    }
   ],
   "source": [
    "list_1 = [7, 'n', 'm']\n",
    "list_2 = [3, 6, 9]\n",
    "\n",
    "join_list = list_1 + list_2\n",
    "\n",
    "print(join_list)"
   ]
  },
  {
   "cell_type": "code",
   "execution_count": 4,
   "id": "718b8d06",
   "metadata": {},
   "outputs": [
    {
     "name": "stdout",
     "output_type": "stream",
     "text": [
      "[7, 'n', 'm', 3, 6, 9]\n"
     ]
    }
   ],
   "source": [
    "join_list = [*list_1, *list_2]\n",
    "print(join_list)"
   ]
  },
  {
   "cell_type": "code",
   "execution_count": 3,
   "id": "12d003d5",
   "metadata": {},
   "outputs": [
    {
     "name": "stdout",
     "output_type": "stream",
     "text": [
      "[7, 'n', 'm', 3, 6, 9]\n"
     ]
    }
   ],
   "source": [
    "join_list = list_1.copy()\n",
    "join_list.extend(list_2)\n",
    "print(join_list)"
   ]
  }
 ],
 "metadata": {
  "kernelspec": {
   "display_name": "Python (tensorflow_env)",
   "language": "python",
   "name": "tensorflow_env"
  },
  "language_info": {
   "codemirror_mode": {
    "name": "ipython",
    "version": 3
   },
   "file_extension": ".py",
   "mimetype": "text/x-python",
   "name": "python",
   "nbconvert_exporter": "python",
   "pygments_lexer": "ipython3",
   "version": "3.11.9"
  }
 },
 "nbformat": 4,
 "nbformat_minor": 5
}
