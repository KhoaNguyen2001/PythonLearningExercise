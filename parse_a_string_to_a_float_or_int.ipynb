{
 "cells": [
  {
   "cell_type": "code",
   "execution_count": 2,
   "id": "42cbcef3",
   "metadata": {},
   "outputs": [
    {
     "name": "stdout",
     "output_type": "stream",
     "text": [
      "<class 'int'>\n",
      "1900\n"
     ]
    }
   ],
   "source": [
    "balance_str = \"1900\"\n",
    "\n",
    "balance_int = int(balance_str)\n",
    "\n",
    "print(type(balance_int))\n",
    "\n",
    "print(balance_int)"
   ]
  },
  {
   "cell_type": "code",
   "execution_count": 3,
   "id": "384e02b7",
   "metadata": {},
   "outputs": [
    {
     "name": "stdout",
     "output_type": "stream",
     "text": [
      "<class 'float'>\n",
      "1900.6\n"
     ]
    },
    {
     "data": {
      "text/plain": [
       "\"\\n>>Output/Runtime Test Cases:\\n     \\n<class 'float'>\\n1900.6\\n\""
      ]
     },
     "execution_count": 3,
     "metadata": {},
     "output_type": "execute_result"
    }
   ],
   "source": [
    "# Example 2: Parse string into float\n",
    "\n",
    "balance_str = \"1900.6\"\n",
    "balance_float = float(balance_str)\n",
    "\n",
    "# print the type\n",
    "print(type(balance_float))\n",
    "\n",
    "# print the value\n",
    "print(balance_float)\n",
    "\n",
    "'''\n",
    ">>Output/Runtime Test Cases:\n",
    "     \n",
    "<class 'float'>\n",
    "1900.6\n",
    "'''"
   ]
  },
  {
   "cell_type": "code",
   "execution_count": 5,
   "id": "e9e1ade8",
   "metadata": {},
   "outputs": [
    {
     "name": "stdout",
     "output_type": "stream",
     "text": [
      "<class 'int'>\n",
      "1900\n"
     ]
    }
   ],
   "source": [
    "balance_str = \"1900.6\"\n",
    "balance_float = int(float(balance_str))\n",
    "\n",
    "# print the type\n",
    "print(type(balance_float))\n",
    "\n",
    "# print the value\n",
    "print(balance_float)"
   ]
  }
 ],
 "metadata": {
  "kernelspec": {
   "display_name": "Python (tensorflow_env)",
   "language": "python",
   "name": "tensorflow_env"
  },
  "language_info": {
   "codemirror_mode": {
    "name": "ipython",
    "version": 3
   },
   "file_extension": ".py",
   "mimetype": "text/x-python",
   "name": "python",
   "nbconvert_exporter": "python",
   "pygments_lexer": "ipython3",
   "version": "3.11.9"
  }
 },
 "nbformat": 4,
 "nbformat_minor": 5
}
