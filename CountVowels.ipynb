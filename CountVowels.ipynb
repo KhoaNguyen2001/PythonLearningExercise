{
 "cells": [
  {
   "cell_type": "code",
   "execution_count": 6,
   "id": "8324a3cb",
   "metadata": {},
   "outputs": [],
   "source": [
    "ip_str = 'Hello, have you visited my github python tutorials yet?'"
   ]
  },
  {
   "cell_type": "code",
   "execution_count": 7,
   "id": "4516c29b",
   "metadata": {},
   "outputs": [],
   "source": [
    "count = {x: sum(1 for c in ip_str if c == x) for x in 'aeiou'}"
   ]
  },
  {
   "cell_type": "code",
   "execution_count": 8,
   "id": "58c5ff05",
   "metadata": {},
   "outputs": [
    {
     "name": "stdout",
     "output_type": "stream",
     "text": [
      "{'a': 2, 'e': 4, 'i': 4, 'o': 4, 'u': 3}\n"
     ]
    }
   ],
   "source": [
    "print(count)"
   ]
  }
 ],
 "metadata": {
  "kernelspec": {
   "display_name": "Python (tensorflow_env)",
   "language": "python",
   "name": "tensorflow_env"
  },
  "language_info": {
   "codemirror_mode": {
    "name": "ipython",
    "version": 3
   },
   "file_extension": ".py",
   "mimetype": "text/x-python",
   "name": "python",
   "nbconvert_exporter": "python",
   "pygments_lexer": "ipython3",
   "version": "3.11.9"
  }
 },
 "nbformat": 4,
 "nbformat_minor": 5
}
