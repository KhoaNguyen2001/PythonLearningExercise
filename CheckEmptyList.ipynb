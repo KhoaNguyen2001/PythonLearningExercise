{
 "cells": [
  {
   "cell_type": "code",
   "execution_count": 1,
   "id": "dee222b9",
   "metadata": {},
   "outputs": [
    {
     "name": "stdout",
     "output_type": "stream",
     "text": [
      "Empty\n"
     ]
    }
   ],
   "source": [
    "my_list = []\n",
    "if not my_list:\n",
    "    print('Empty')"
   ]
  },
  {
   "cell_type": "code",
   "execution_count": 2,
   "id": "087fedf7",
   "metadata": {},
   "outputs": [
    {
     "name": "stdout",
     "output_type": "stream",
     "text": [
      "Emty\n"
     ]
    }
   ],
   "source": [
    "if not len(my_list):\n",
    "    print('Emty')"
   ]
  },
  {
   "cell_type": "code",
   "execution_count": 3,
   "id": "0870c2bf",
   "metadata": {},
   "outputs": [
    {
     "name": "stdout",
     "output_type": "stream",
     "text": [
      "empty\n"
     ]
    }
   ],
   "source": [
    "if my_list == []:\n",
    "    print('empty')"
   ]
  }
 ],
 "metadata": {
  "kernelspec": {
   "display_name": "Python (tensorflow_env)",
   "language": "python",
   "name": "tensorflow_env"
  },
  "language_info": {
   "codemirror_mode": {
    "name": "ipython",
    "version": 3
   },
   "file_extension": ".py",
   "mimetype": "text/x-python",
   "name": "python",
   "nbconvert_exporter": "python",
   "pygments_lexer": "ipython3",
   "version": "3.11.9"
  }
 },
 "nbformat": 4,
 "nbformat_minor": 5
}
