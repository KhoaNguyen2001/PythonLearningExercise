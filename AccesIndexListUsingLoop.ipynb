{
 "cells": [
  {
   "cell_type": "code",
   "execution_count": 2,
   "id": "c2513a02",
   "metadata": {},
   "outputs": [
    {
     "name": "stdout",
     "output_type": "stream",
     "text": [
      "0 21\n",
      "1 33\n",
      "2 66\n",
      "3 77\n"
     ]
    }
   ],
   "source": [
    "my_list = [21, 33, 66, 77]\n",
    "\n",
    "for index, value in enumerate(my_list):\n",
    "    print(f'{index} {value}')"
   ]
  },
  {
   "cell_type": "code",
   "execution_count": 3,
   "id": "a60f773d",
   "metadata": {},
   "outputs": [
    {
     "name": "stdout",
     "output_type": "stream",
     "text": [
      "1 21\n",
      "2 33\n",
      "3 66\n",
      "4 77\n"
     ]
    }
   ],
   "source": [
    "for index, value in enumerate(my_list, start=1):\n",
    "    print(f'{index} {value}')"
   ]
  },
  {
   "cell_type": "code",
   "execution_count": 4,
   "id": "64d02070",
   "metadata": {},
   "outputs": [
    {
     "name": "stdout",
     "output_type": "stream",
     "text": [
      "0 21\n",
      "1 33\n",
      "2 66\n",
      "3 77\n"
     ]
    }
   ],
   "source": [
    "for idx in range(len(my_list)):\n",
    "    print(f'{idx} {my_list[idx]}')"
   ]
  }
 ],
 "metadata": {
  "kernelspec": {
   "display_name": "Python (tensorflow_env)",
   "language": "python",
   "name": "tensorflow_env"
  },
  "language_info": {
   "codemirror_mode": {
    "name": "ipython",
    "version": 3
   },
   "file_extension": ".py",
   "mimetype": "text/x-python",
   "name": "python",
   "nbconvert_exporter": "python",
   "pygments_lexer": "ipython3",
   "version": "3.11.9"
  }
 },
 "nbformat": 4,
 "nbformat_minor": 5
}
